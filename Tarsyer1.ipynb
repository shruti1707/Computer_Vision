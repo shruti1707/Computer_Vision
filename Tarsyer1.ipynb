{
 "cells": [
  {
   "cell_type": "code",
   "execution_count": 1,
   "metadata": {},
   "outputs": [],
   "source": [
    "##############PART 1(a)"
   ]
  },
  {
   "cell_type": "code",
   "execution_count": 2,
   "metadata": {},
   "outputs": [],
   "source": [
    "import matplotlib.pyplot as plt\n",
    "import pandas as pd\n",
    "import numpy as np\n",
    "import cv2"
   ]
  },
  {
   "cell_type": "code",
   "execution_count": 3,
   "metadata": {},
   "outputs": [
    {
     "name": "stderr",
     "output_type": "stream",
     "text": [
      "Using TensorFlow backend.\n"
     ]
    }
   ],
   "source": [
    "from keras.layers import Input, Dense, Conv2D, MaxPooling2D, UpSampling2D, Flatten, Reshape, Dropout\n",
    "from keras.callbacks import EarlyStopping,ModelCheckpoint\n",
    "from keras.models import Model\n",
    "from keras.models import load_model\n",
    "from keras.utils import np_utils\n",
    "from keras.datasets import mnist"
   ]
  },
  {
   "cell_type": "code",
   "execution_count": 4,
   "metadata": {},
   "outputs": [],
   "source": [
    "(X_train, y_train), (X_test, y_test) = mnist.load_data()"
   ]
  },
  {
   "cell_type": "code",
   "execution_count": 5,
   "metadata": {},
   "outputs": [],
   "source": [
    "X_train = (X_train/255).reshape(-1,28,28,1)\n",
    "X_test = (X_test/255).reshape(-1,28,28,1)"
   ]
  },
  {
   "cell_type": "code",
   "execution_count": 12,
   "metadata": {},
   "outputs": [],
   "source": [
    "img_gauss = []\n",
    "for i in range(len(X_train)):\n",
    "    img = X_train[i]\n",
    "    gauss = np.random.normal(0,1,img.size)\n",
    "    gauss = gauss.reshape(img.shape[0],img.shape[1]).astype('float')\n",
    "    img_gauss.append(cv2.add(img,gauss))\n",
    "x_train_img = np.array(img_gauss).reshape(-1,28,28,1)"
   ]
  },
  {
   "cell_type": "code",
   "execution_count": 13,
   "metadata": {},
   "outputs": [],
   "source": [
    "img_gauss1 = []\n",
    "for i in range(len(X_test)):\n",
    "    img = X_test[i]\n",
    "    gauss = np.random.normal(0,1,img.size)\n",
    "    gauss = gauss.reshape(img.shape[0],img.shape[1]).astype('float')\n",
    "    img_gauss1.append(cv2.add(img,gauss))\n",
    "x_test_img = np.array(img_gauss1).reshape(-1,28,28,1)"
   ]
  },
  {
   "cell_type": "code",
   "execution_count": 35,
   "metadata": {},
   "outputs": [],
   "source": [
    "input_img = Input(shape=(28,28,1)) \n",
    "\n",
    "##############ENCODING\n",
    "x = Conv2D(32, (3, 3), activation='relu', padding='same')(input_img)\n",
    "x = MaxPooling2D((2, 2), padding='same')(x)\n",
    "\n",
    "x = Conv2D(32, (3, 3), activation='relu', padding='same')(x)\n",
    "x = MaxPooling2D((2, 2), padding='same')(x)\n",
    "x = Flatten()(x)\n",
    "\n",
    "#FC Layer\n",
    "x = Dense(400,activation='relu')(x)\n",
    "x = Dropout(0.3)(x)\n",
    "\n",
    "encoded = Dense(100,activation='relu')(x)\n",
    "x = Dropout(0.1)(encoded)\n",
    "\n",
    "x = Dense(400,activation='relu')(x)\n",
    "x = Dropout(0.1)(x)\n",
    "\n",
    "x = Dense(1568)(x)\n",
    "x = Dropout(0.3)(x)\n",
    "x = Reshape((7,7,32))(x)\n",
    "\n",
    "##############DECODING\n",
    "x = Conv2D(32, (3, 3), activation='relu', padding='same')(x)\n",
    "x = UpSampling2D((2, 2))(x)\n",
    "\n",
    "x = Conv2D(32, (3, 3), activation='relu', padding='same')(x)\n",
    "x = UpSampling2D((2, 2))(x)\n",
    "decoded = Conv2D(1, (3, 3), activation='sigmoid', padding='same')(x)"
   ]
  },
  {
   "cell_type": "code",
   "execution_count": 63,
   "metadata": {
    "scrolled": false
   },
   "outputs": [
    {
     "name": "stdout",
     "output_type": "stream",
     "text": [
      "Model: \"model_6\"\n",
      "_________________________________________________________________\n",
      "Layer (type)                 Output Shape              Param #   \n",
      "=================================================================\n",
      "input_7 (InputLayer)         (None, 28, 28, 1)         0         \n",
      "_________________________________________________________________\n",
      "conv2d_26 (Conv2D)           (None, 28, 28, 32)        320       \n",
      "_________________________________________________________________\n",
      "max_pooling2d_13 (MaxPooling (None, 14, 14, 32)        0         \n",
      "_________________________________________________________________\n",
      "conv2d_27 (Conv2D)           (None, 14, 14, 32)        9248      \n",
      "_________________________________________________________________\n",
      "max_pooling2d_14 (MaxPooling (None, 7, 7, 32)          0         \n",
      "_________________________________________________________________\n",
      "flatten_6 (Flatten)          (None, 1568)              0         \n",
      "_________________________________________________________________\n",
      "dense_21 (Dense)             (None, 400)               627600    \n",
      "_________________________________________________________________\n",
      "dropout_7 (Dropout)          (None, 400)               0         \n",
      "_________________________________________________________________\n",
      "dense_22 (Dense)             (None, 100)               40100     \n",
      "_________________________________________________________________\n",
      "dropout_8 (Dropout)          (None, 100)               0         \n",
      "_________________________________________________________________\n",
      "dense_23 (Dense)             (None, 400)               40400     \n",
      "_________________________________________________________________\n",
      "dropout_9 (Dropout)          (None, 400)               0         \n",
      "_________________________________________________________________\n",
      "dense_24 (Dense)             (None, 1568)              628768    \n",
      "_________________________________________________________________\n",
      "dropout_10 (Dropout)         (None, 1568)              0         \n",
      "_________________________________________________________________\n",
      "reshape_5 (Reshape)          (None, 7, 7, 32)          0         \n",
      "_________________________________________________________________\n",
      "conv2d_28 (Conv2D)           (None, 7, 7, 32)          9248      \n",
      "_________________________________________________________________\n",
      "up_sampling2d_9 (UpSampling2 (None, 14, 14, 32)        0         \n",
      "_________________________________________________________________\n",
      "conv2d_29 (Conv2D)           (None, 14, 14, 32)        9248      \n",
      "_________________________________________________________________\n",
      "up_sampling2d_10 (UpSampling (None, 28, 28, 32)        0         \n",
      "_________________________________________________________________\n",
      "conv2d_30 (Conv2D)           (None, 28, 28, 1)         289       \n",
      "=================================================================\n",
      "Total params: 1,365,221\n",
      "Trainable params: 1,365,221\n",
      "Non-trainable params: 0\n",
      "_________________________________________________________________\n"
     ]
    }
   ],
   "source": [
    "Autoencoder = Model(input_img, decoded)\n",
    "\n",
    "#compiling the autoencoder\n",
    "Autoencoder.compile(optimizer='adadelta', loss='binary_crossentropy', metrics = ['accuracy'])\n",
    "Autoencoder.summary()"
   ]
  },
  {
   "cell_type": "code",
   "execution_count": 47,
   "metadata": {
    "scrolled": true
   },
   "outputs": [
    {
     "name": "stdout",
     "output_type": "stream",
     "text": [
      "Train on 60000 samples, validate on 10000 samples\n",
      "Epoch 1/5\n",
      "60000/60000 [==============================] - 276s 5ms/step - loss: 0.2533 - accuracy: 0.8007 - val_loss: 0.2194 - val_accuracy: 0.7751\n",
      "Epoch 2/5\n",
      "60000/60000 [==============================] - 274s 5ms/step - loss: 0.2018 - accuracy: 0.7946 - val_loss: 0.1775 - val_accuracy: 0.8000\n",
      "Epoch 3/5\n",
      "60000/60000 [==============================] - 277s 5ms/step - loss: 0.1842 - accuracy: 0.7982 - val_loss: 0.1670 - val_accuracy: 0.8015\n",
      "Epoch 4/5\n",
      "60000/60000 [==============================] - 279s 5ms/step - loss: 0.1764 - accuracy: 0.7999 - val_loss: 0.1610 - val_accuracy: 0.8006\n",
      "Epoch 5/5\n",
      "60000/60000 [==============================] - 268s 4ms/step - loss: 0.1716 - accuracy: 0.8008 - val_loss: 0.1567 - val_accuracy: 0.8022\n"
     ]
    }
   ],
   "source": [
    "#training the model with a batch size of 128 and 5 epochs\n",
    "history = Autoencoder.fit(x_train_img, X_train, epochs = 5 , batch_size = 128, validation_data = (x_test_img, X_test))"
   ]
  },
  {
   "cell_type": "code",
   "execution_count": 48,
   "metadata": {},
   "outputs": [
    {
     "data": {
      "image/png": "[encoded data removed]",
      "text/plain": [
       "<Figure size 432x288 with 1 Axes>"
      ]
     },
     "metadata": {
      "needs_background": "light"
     },
     "output_type": "display_data"
    }
   ],
   "source": [
    "#plotting the training and val losses\n",
    "plt.plot(history.history['loss'])\n",
    "plt.plot(history.history['val_loss'])\n",
    "plt.title('model loss')\n",
    "plt.ylabel('loss')\n",
    "plt.xlabel('epoch')\n",
    "plt.legend(['train', 'val'], loc='upper right')\n",
    "plt.show()"
   ]
  },
  {
   "cell_type": "code",
   "execution_count": 49,
   "metadata": {
    "scrolled": true
   },
   "outputs": [
    {
     "name": "stdout",
     "output_type": "stream",
     "text": [
      "10000/10000 [==============================] - 8s 837us/step\n"
     ]
    }
   ],
   "source": [
    "output = Autoencoder.predict(x_test_img , verbose=1)"
   ]
  },
  {
   "cell_type": "code",
   "execution_count": 52,
   "metadata": {},
   "outputs": [
    {
     "data": {
      "image/png": "[encoded data removed]",
      "text/plain": [
       "<Figure size 1440x144 with 15 Axes>"
      ]
     },
     "metadata": {
      "needs_background": "light"
     },
     "output_type": "display_data"
    }
   ],
   "source": [
    "#First 15 images from the MNIST test set\n",
    "n = 16\n",
    "plt.figure(figsize=(20, 2))\n",
    "for i in range(1,n):\n",
    "    ax = plt.subplot(1, n, i)\n",
    "    plt.imshow(X_test[i].reshape(28, 28),cmap = 'gray')\n",
    "    ax.get_xaxis().set_visible(False)\n",
    "    ax.get_yaxis().set_visible(False)\n",
    "plt.show()"
   ]
  },
  {
   "cell_type": "code",
   "execution_count": 53,
   "metadata": {},
   "outputs": [
    {
     "data": {
      "image/png": "[encoded data removed]",
      "text/plain": [
       "<Figure size 1440x144 with 15 Axes>"
      ]
     },
     "metadata": {
      "needs_background": "light"
     },
     "output_type": "display_data"
    }
   ],
   "source": [
    "#images after adding gaussian noise to them\n",
    "n = 16\n",
    "plt.figure(figsize=(20, 2))\n",
    "for i in range(1,n):\n",
    "    ax = plt.subplot(1, n, i)\n",
    "    plt.imshow(x_test_img[i].reshape(28, 28),cmap = 'gray')\n",
    "    ax.get_xaxis().set_visible(False)\n",
    "    ax.get_yaxis().set_visible(False)\n",
    "plt.show()"
   ]
  },
  {
   "cell_type": "code",
   "execution_count": 54,
   "metadata": {},
   "outputs": [
    {
     "data": {
      "image/png": "[encoded data removed]",
      "text/plain": [
       "<Figure size 1440x144 with 15 Axes>"
      ]
     },
     "metadata": {
      "needs_background": "light"
     },
     "output_type": "display_data"
    }
   ],
   "source": [
    "#corresponding denoised output images from the trained autoencoder\n",
    "n = 16\n",
    "plt.figure(figsize=(20, 2))\n",
    "for i in range(1,n):\n",
    "    ax = plt.subplot(1, n, i)\n",
    "    plt.imshow(output[i].reshape(28, 28),cmap = 'gray')\n",
    "    ax.get_xaxis().set_visible(False)\n",
    "    ax.get_yaxis().set_visible(False)\n",
    "plt.show()"
   ]
  },
  {
   "cell_type": "code",
   "execution_count": 331,
   "metadata": {},
   "outputs": [],
   "source": [
    "#############PART 1(b)"
   ]
  },
  {
   "cell_type": "code",
   "execution_count": 96,
   "metadata": {},
   "outputs": [
    {
     "data": {
      "text/plain": [
       "[<keras.engine.input_layer.InputLayer at 0x1232de897c8>,\n",
       " <keras.layers.convolutional.Conv2D at 0x1232da6d488>,\n",
       " <keras.layers.pooling.MaxPooling2D at 0x1232de54d48>,\n",
       " <keras.layers.convolutional.Conv2D at 0x1232de89e48>,\n",
       " <keras.layers.pooling.MaxPooling2D at 0x1232de89e88>,\n",
       " <keras.layers.core.Flatten at 0x1232dea3808>,\n",
       " <keras.layers.core.Dense at 0x1232dea33c8>,\n",
       " <keras.layers.core.Dropout at 0x1232de86cc8>,\n",
       " <keras.layers.core.Dense at 0x1232de8df48>,\n",
       " <keras.layers.core.Dropout at 0x1232de8d548>,\n",
       " <keras.layers.core.Dense at 0x1232de98788>,\n",
       " <keras.layers.core.Dropout at 0x1232de98608>,\n",
       " <keras.layers.core.Dense at 0x1232ded0d88>,\n",
       " <keras.layers.core.Dropout at 0x1232ded0948>,\n",
       " <keras.layers.core.Reshape at 0x1232deff408>,\n",
       " <keras.layers.convolutional.Conv2D at 0x1232ded35c8>,\n",
       " <keras.layers.convolutional.UpSampling2D at 0x1232df2aac8>,\n",
       " <keras.layers.convolutional.Conv2D at 0x1232df607c8>,\n",
       " <keras.layers.convolutional.UpSampling2D at 0x1232df60648>,\n",
       " <keras.layers.convolutional.Conv2D at 0x1232df6cd88>,\n",
       " <keras.layers.core.Dense at 0x1233303f588>,\n",
       " <keras.layers.core.Dense at 0x123351fd548>]"
      ]
     },
     "execution_count": 96,
     "metadata": {},
     "output_type": "execute_result"
    }
   ],
   "source": [
    "#layers in the autoencoder\n",
    "Autoencoder.layers"
   ]
  },
  {
   "cell_type": "code",
   "execution_count": 97,
   "metadata": {},
   "outputs": [],
   "source": [
    "#keeping only the encoding layers exept the  from the full autoencoder model\n",
    "for i in range(13):\n",
    "    Autoencoder.layers.pop()"
   ]
  },
  {
   "cell_type": "code",
   "execution_count": 140,
   "metadata": {},
   "outputs": [
    {
     "data": {
      "text/plain": [
       "[<keras.engine.input_layer.InputLayer at 0x1232de897c8>,\n",
       " <keras.layers.convolutional.Conv2D at 0x1232da6d488>,\n",
       " <keras.layers.pooling.MaxPooling2D at 0x1232de54d48>,\n",
       " <keras.layers.convolutional.Conv2D at 0x1232de89e48>,\n",
       " <keras.layers.pooling.MaxPooling2D at 0x1232de89e88>,\n",
       " <keras.layers.core.Flatten at 0x1232dea3808>,\n",
       " <keras.layers.core.Dense at 0x1232dea33c8>,\n",
       " <keras.layers.core.Dropout at 0x1232de86cc8>,\n",
       " <keras.layers.core.Dense at 0x1232de8df48>,\n",
       " <keras.layers.core.Dense at 0x12335240b08>]"
      ]
     },
     "execution_count": 140,
     "metadata": {},
     "output_type": "execute_result"
    }
   ],
   "source": [
    "Autoencoder.layers"
   ]
  },
  {
   "cell_type": "code",
   "execution_count": 150,
   "metadata": {},
   "outputs": [],
   "source": [
    "#to finetune only the final FC layer\n",
    "for layer in Autoencoder.layers[:6]:\n",
    "    layer.trainable = False"
   ]
  },
  {
   "cell_type": "code",
   "execution_count": 151,
   "metadata": {},
   "outputs": [],
   "source": [
    "#Adding the final layer with sigmoid activation for digit classification\n",
    "x = Dense(10,activation='sigmoid')(Autoencoder.layers[-1].output)"
   ]
  },
  {
   "cell_type": "code",
   "execution_count": 152,
   "metadata": {},
   "outputs": [
    {
     "name": "stdout",
     "output_type": "stream",
     "text": [
      "Model: \"model_19\"\n",
      "_________________________________________________________________\n",
      "Layer (type)                 Output Shape              Param #   \n",
      "=================================================================\n",
      "input_7 (InputLayer)         (None, 28, 28, 1)         0         \n",
      "_________________________________________________________________\n",
      "conv2d_26 (Conv2D)           (None, 28, 28, 32)        320       \n",
      "_________________________________________________________________\n",
      "max_pooling2d_13 (MaxPooling (None, 14, 14, 32)        0         \n",
      "_________________________________________________________________\n",
      "conv2d_27 (Conv2D)           (None, 14, 14, 32)        9248      \n",
      "_________________________________________________________________\n",
      "max_pooling2d_14 (MaxPooling (None, 7, 7, 32)          0         \n",
      "_________________________________________________________________\n",
      "flatten_6 (Flatten)          (None, 1568)              0         \n",
      "_________________________________________________________________\n",
      "dense_21 (Dense)             (None, 400)               627600    \n",
      "_________________________________________________________________\n",
      "dropout_7 (Dropout)          (None, 400)               0         \n",
      "_________________________________________________________________\n",
      "dense_22 (Dense)             (None, 100)               40100     \n",
      "_________________________________________________________________\n",
      "dense_30 (Dense)             (None, 10)                1010      \n",
      "_________________________________________________________________\n",
      "dense_33 (Dense)             (None, 10)                110       \n",
      "=================================================================\n",
      "Total params: 678,388\n",
      "Trainable params: 668,820\n",
      "Non-trainable params: 9,568\n",
      "_________________________________________________________________\n"
     ]
    },
    {
     "name": "stderr",
     "output_type": "stream",
     "text": [
      "C:\\Users\\Puja\\Anaconda3\\lib\\site-packages\\ipykernel_launcher.py:2: UserWarning: Update your `Model` call to the Keras 2 API: `Model(inputs=Tensor(\"in..., outputs=Tensor(\"de...)`\n",
      "  \n"
     ]
    }
   ],
   "source": [
    "#naming the classification model Classifier\n",
    "Classifier = Model(input= Autoencoder.input, output=x)\n",
    "Classifier.summary()"
   ]
  },
  {
   "cell_type": "code",
   "execution_count": 154,
   "metadata": {},
   "outputs": [],
   "source": [
    "#compiling the model\n",
    "Classifier.compile(optimizer='adam', loss='binary_crossentropy', metrics = ['accuracy'])"
   ]
  },
  {
   "cell_type": "code",
   "execution_count": 155,
   "metadata": {},
   "outputs": [],
   "source": [
    "#Using early stopping and model checkpoint to save the best model while training the model\n",
    "es = EarlyStopping(monitor='val_loss', mode='min', verbose=1, patience=3)\n",
    "mc = ModelCheckpoint('best_model.h5', monitor='val_loss', mode='min', verbose=1, save_best_only=True)"
   ]
  },
  {
   "cell_type": "code",
   "execution_count": 156,
   "metadata": {},
   "outputs": [],
   "source": [
    "#encoding the labels as one-hot vectors\n",
    "n_classes = 10\n",
    "Y_train = np_utils.to_categorical(y_train, n_classes)\n",
    "Y_test = np_utils.to_categorical(y_test, n_classes)"
   ]
  },
  {
   "cell_type": "code",
   "execution_count": 158,
   "metadata": {},
   "outputs": [
    {
     "name": "stdout",
     "output_type": "stream",
     "text": [
      "Train on 60000 samples, validate on 10000 samples\n",
      "Epoch 1/10\n",
      "60000/60000 [==============================] - 36s 605us/step - loss: 0.3464 - accuracy: 0.9000 - val_loss: 0.3047 - val_accuracy: 0.9000\n",
      "\n",
      "Epoch 00001: val_loss improved from inf to 0.30468, saving model to best_model.h5\n",
      "Epoch 2/10\n",
      "60000/60000 [==============================] - 37s 612us/step - loss: 0.2478 - accuracy: 0.9034 - val_loss: 0.1937 - val_accuracy: 0.9173\n",
      "\n",
      "Epoch 00002: val_loss improved from 0.30468 to 0.19373, saving model to best_model.h5\n",
      "Epoch 3/10\n",
      "60000/60000 [==============================] - 37s 611us/step - loss: 0.1710 - accuracy: 0.9437 - val_loss: 0.1532 - val_accuracy: 0.9623\n",
      "\n",
      "Epoch 00003: val_loss improved from 0.19373 to 0.15318, saving model to best_model.h5\n",
      "Epoch 4/10\n",
      "60000/60000 [==============================] - 37s 615us/step - loss: 0.1390 - accuracy: 0.9668 - val_loss: 0.1300 - val_accuracy: 0.9678\n",
      "\n",
      "Epoch 00004: val_loss improved from 0.15318 to 0.13005, saving model to best_model.h5\n",
      "Epoch 5/10\n",
      "60000/60000 [==============================] - 37s 619us/step - loss: 0.1146 - accuracy: 0.9706 - val_loss: 0.1132 - val_accuracy: 0.9684\n",
      "\n",
      "Epoch 00005: val_loss improved from 0.13005 to 0.11316, saving model to best_model.h5\n",
      "Epoch 6/10\n",
      "60000/60000 [==============================] - 37s 615us/step - loss: 0.0993 - accuracy: 0.9724 - val_loss: 0.1050 - val_accuracy: 0.9688\n",
      "\n",
      "Epoch 00006: val_loss improved from 0.11316 to 0.10497, saving model to best_model.h5\n",
      "Epoch 7/10\n",
      "60000/60000 [==============================] - 37s 619us/step - loss: 0.0906 - accuracy: 0.9739 - val_loss: 0.1016 - val_accuracy: 0.9682\n",
      "\n",
      "Epoch 00007: val_loss improved from 0.10497 to 0.10161, saving model to best_model.h5\n",
      "Epoch 8/10\n",
      "60000/60000 [==============================] - 38s 626us/step - loss: 0.0843 - accuracy: 0.9748 - val_loss: 0.0980 - val_accuracy: 0.9690\n",
      "\n",
      "Epoch 00008: val_loss improved from 0.10161 to 0.09805, saving model to best_model.h5\n",
      "Epoch 9/10\n",
      "60000/60000 [==============================] - 37s 620us/step - loss: 0.0793 - accuracy: 0.9755 - val_loss: 0.0975 - val_accuracy: 0.9683\n",
      "\n",
      "Epoch 00009: val_loss improved from 0.09805 to 0.09751, saving model to best_model.h5\n",
      "Epoch 10/10\n",
      "60000/60000 [==============================] - 37s 620us/step - loss: 0.0757 - accuracy: 0.9761 - val_loss: 0.0962 - val_accuracy: 0.9683\n",
      "\n",
      "Epoch 00010: val_loss improved from 0.09751 to 0.09622, saving model to best_model.h5\n"
     ]
    }
   ],
   "source": [
    "#fitting the classification model\n",
    "history1 = Classifier.fit(x_train_img , Y_train, batch_size=128, epochs = 10, validation_data= (x_test_img, Y_test), callbacks = [es,mc])"
   ]
  },
  {
   "cell_type": "code",
   "execution_count": 159,
   "metadata": {},
   "outputs": [
    {
     "data": {
      "image/png": "[encoded data removed]",
      "text/plain": [
       "<Figure size 432x288 with 1 Axes>"
      ]
     },
     "metadata": {
      "needs_background": "light"
     },
     "output_type": "display_data"
    }
   ],
   "source": [
    "#plotting the training and val losses\n",
    "plt.plot(history1.history['loss'])\n",
    "plt.plot(history1.history['val_loss'])\n",
    "plt.title('model loss')\n",
    "plt.ylabel('loss')\n",
    "plt.xlabel('epoch')\n",
    "plt.legend(['train', 'val'], loc='upper right')\n",
    "plt.show()"
   ]
  },
  {
   "cell_type": "code",
   "execution_count": 161,
   "metadata": {},
   "outputs": [
    {
     "name": "stdout",
     "output_type": "stream",
     "text": [
      "60000/60000 [==============================] - 30s 503us/step\n"
     ]
    }
   ],
   "source": [
    "train_loss , _ = saved_model.evaluate(x_train_img , Y_train)"
   ]
  },
  {
   "cell_type": "code",
   "execution_count": 162,
   "metadata": {},
   "outputs": [
    {
     "name": "stdout",
     "output_type": "stream",
     "text": [
      "10000/10000 [==============================] - 5s 502us/step\n"
     ]
    }
   ],
   "source": [
    "val_loss, _ = saved_model.evaluate(x_test_img, Y_test)"
   ]
  },
  {
   "cell_type": "code",
   "execution_count": 163,
   "metadata": {},
   "outputs": [
    {
     "data": {
      "text/plain": [
       "0.0586459375778834"
      ]
     },
     "execution_count": 163,
     "metadata": {},
     "output_type": "execute_result"
    }
   ],
   "source": [
    "train_loss"
   ]
  },
  {
   "cell_type": "code",
   "execution_count": 164,
   "metadata": {},
   "outputs": [
    {
     "data": {
      "text/plain": [
       "0.09622415667772292"
      ]
     },
     "execution_count": 164,
     "metadata": {},
     "output_type": "execute_result"
    }
   ],
   "source": [
    "val_loss"
   ]
  },
  {
   "cell_type": "code",
   "execution_count": 170,
   "metadata": {},
   "outputs": [
    {
     "data": {
      "text/plain": [
       "array([7, 2, 1, ..., 4, 5, 6], dtype=int64)"
      ]
     },
     "execution_count": 170,
     "metadata": {},
     "output_type": "execute_result"
    }
   ],
   "source": [
    "#####classes predicted by the model\n",
    "y_prob = saved_model.predict(x_test_img) \n",
    "y_classes = y_prob.argmax(axis=-1)\n",
    "y_classes"
   ]
  },
  {
   "cell_type": "code",
   "execution_count": 169,
   "metadata": {},
   "outputs": [
    {
     "data": {
      "text/plain": [
       "array([7, 2, 1, ..., 4, 5, 6], dtype=uint8)"
      ]
     },
     "execution_count": 169,
     "metadata": {},
     "output_type": "execute_result"
    }
   ],
   "source": [
    "y_test"
   ]
  },
  {
   "cell_type": "code",
   "execution_count": 179,
   "metadata": {
    "scrolled": true
   },
   "outputs": [
    {
     "name": "stdout",
     "output_type": "stream",
     "text": [
      "8340  classified correctly\n",
      "1660  classified incorrectly\n"
     ]
    }
   ],
   "source": [
    "print(np.unique(y_classes == y_test,return_counts=True)[1][1],\" classified correctly\")\n",
    "print(np.unique(y_classes == y_test,return_counts=True)[1][0],\" classified incorrectly\")"
   ]
  }
 ],
 "metadata": {
  "kernelspec": {
   "display_name": "Python 3",
   "language": "python",
   "name": "python3"
  },
  "language_info": {
   "codemirror_mode": {
    "name": "ipython",
    "version": 3
   },
   "file_extension": ".py",
   "mimetype": "text/x-python",
   "name": "python",
   "nbconvert_exporter": "python",
   "pygments_lexer": "ipython3",
   "version": "3.7.4"
  }
 },
 "nbformat": 4,
 "nbformat_minor": 2
}
